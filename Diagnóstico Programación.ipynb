{
 "cells": [
  {
   "cell_type": "code",
   "execution_count": 1,
   "metadata": {
    "scrolled": true
   },
   "outputs": [],
   "source": [
    "import pandas as pd\n",
    "\n",
    "data_path = 'farmers-protest-tweets-2021-03-5.json'\n",
    "\n",
    "\n",
    "data = pd.read_json(data_path, lines=True)\n"
   ]
  },
  {
   "cell_type": "code",
   "execution_count": 8,
   "metadata": {},
   "outputs": [],
   "source": [
    "#columnas de la bdd\n",
    "users = data['user'].to_json()\n"
   ]
  },
  {
   "cell_type": "code",
   "execution_count": null,
   "metadata": {},
   "outputs": [],
   "source": []
  },
  {
   "cell_type": "code",
   "execution_count": 13,
   "metadata": {},
   "outputs": [
    {
     "name": "stdout",
     "output_type": "stream",
     "text": [
      "Index(['url', 'date', 'content', 'renderedContent', 'id', 'user', 'outlinks',\n",
      "       'tcooutlinks', 'replyCount', 'retweetCount', 'likeCount', 'quoteCount',\n",
      "       'conversationId', 'lang', 'source', 'sourceUrl', 'sourceLabel', 'media',\n",
      "       'retweetedTweet', 'quotedTweet', 'mentionedUsers'],\n",
      "      dtype='object')\n",
      "Index(['username', 'displayname', 'id', 'description', 'rawDescription',\n",
      "       'descriptionUrls', 'verified', 'created', 'followersCount',\n",
      "       'friendsCount', 'statusesCount', 'favouritesCount', 'listedCount',\n",
      "       'mediaCount', 'location', 'protected', 'linkUrl', 'linkTcourl',\n",
      "       'profileImageUrl', 'profileBannerUrl', 'url'],\n",
      "      dtype='object')\n"
     ]
    }
   ],
   "source": [
    "\n",
    "users = pd.read_json(users, orient ='index')\n",
    "print(data.columns)\n",
    "\n",
    "print(users.columns)"
   ]
  },
  {
   "cell_type": "code",
   "execution_count": null,
   "metadata": {},
   "outputs": [],
   "source": [
    "def top_10_tweets(data):\n",
    "    top_10 = data.sort_values(by='retweetCount', ascending=False)\n",
    "    top_10 = top_10.head(n=10)\n",
    "    return top_10"
   ]
  },
  {
   "cell_type": "code",
   "execution_count": 33,
   "metadata": {},
   "outputs": [
    {
     "ename": "SyntaxError",
     "evalue": "invalid syntax (<ipython-input-33-0c86b382d05d>, line 6)",
     "output_type": "error",
     "traceback": [
      "\u001b[0;36m  File \u001b[0;32m\"<ipython-input-33-0c86b382d05d>\"\u001b[0;36m, line \u001b[0;32m6\u001b[0m\n\u001b[0;31m    return top_10\u001b[0m\n\u001b[0m         ^\u001b[0m\n\u001b[0;31mSyntaxError\u001b[0m\u001b[0;31m:\u001b[0m invalid syntax\n"
     ]
    }
   ],
   "source": [
    "def top_10_users(data):\n",
    "    df = data.groupby('username',as_index=False).count()\n",
    "    top_10 = df.sort_values(by=('url'), ascending=False)\n",
    "    top_10 = top_10.rename(columns={'url':'count'})\n",
    "    top_10 = top_10[['username','count'].head(n=10)\n",
    "    \n",
    "                return top_10"
   ]
  },
  {
   "cell_type": "code",
   "execution_count": null,
   "metadata": {},
   "outputs": [],
   "source": [
    "def top_10_tweet_days(data):\n",
    "    top_10 = data.groupby(data['date'].dt.date).describe().reset_index()\n",
    "    top_10 = top_10.sort_values(by=('id','count'), ascending=False)\n",
    "    top_10 = top_10.head(n=10)\n",
    "    return top_10 "
   ]
  },
  {
   "cell_type": "code",
   "execution_count": null,
   "metadata": {},
   "outputs": [],
   "source": [
    "import numpy as np\n",
    "import re\n",
    "def top_10_hashtags(data):\n",
    "    top_10 = data['content'].str.findall(r'#.*?(?=\\s|$)', flags=re.IGNORECASE).to_frame('hashtags')\n",
    "    df = pd.Series(np.hstack(top_10['hashtags'])).value_counts().to_frame('count')\n",
    "    df = df.rename_axis('Hashtag').reset_index()\n",
    "    return df.head(n=10)"
   ]
  },
  {
   "cell_type": "code",
   "execution_count": 28,
   "metadata": {},
   "outputs": [
    {
     "name": "stdout",
     "output_type": "stream",
     "text": [
      "Elige una de las opciones para realizar una consulta\n",
      "[1] Top 10 tweets con más retweets\n",
      "[2] Top 10 usuarios con más tweets emitidos\n",
      "[3] Top 10 días donde más tweets se realizaron\n",
      "[4] Top 10 hashtags más utilizados\n",
      "2\n",
      "64533    harjot_tweeting\n",
      "89538      tasveersandhu\n",
      "85831    shells_n_petals\n",
      "70262             jot__b\n",
      "82110      rebelpacifist\n",
      "83100           rumsomal\n",
      "19757        Iamjazzie96\n",
      "22292           Jass_k_G\n",
      "12024    DigitalKisanBot\n",
      "93313      z_khalique007\n",
      "Name: username, dtype: object\n",
      "¿Deseas realizar una nueva operación?\n",
      "[1]Si\n",
      "[2]No\n",
      "2\n",
      "Hasta pronto\n"
     ]
    }
   ],
   "source": [
    "def main(users, data):\n",
    "    print('Elige una de las opciones para realizar una consulta')\n",
    "    print('[1] Top 10 tweets con más retweets')\n",
    "    print('[2] Top 10 usuarios con más tweets emitidos')\n",
    "    print('[3] Top 10 días donde más tweets se realizaron')\n",
    "    print('[4] Top 10 hashtags más utilizados')\n",
    "    option = input()\n",
    "    while not option in ['1','2','3','4']:\n",
    "        option = input('seleccione una opción válida porfavor: ')\n",
    "    if option == '1':\n",
    "        top = top_10_tweets(data)\n",
    "        print(top[['id', 'content', 'retweetCount']])\n",
    "        \n",
    "    elif option == '2':\n",
    "        top = top_10_users(users)\n",
    "        print(top)\n",
    "   \n",
    "    elif option == '3':\n",
    "        top_10 = top_10_tweet_days(data)\n",
    "        print(top_10['date'].head(n=10))\n",
    "    else:\n",
    "        top = top_10_hashtags(data)\n",
    "        print(top)\n",
    "    print('¿Deseas realizar una nueva operación?\\n[1]Si\\n[2]No')\n",
    "    new_option = input()\n",
    "    if not new_option in ['1','2']:\n",
    "        new_option = input('seleccione una opción válida porfavor: ')\n",
    "    if new_option == '1':\n",
    "        main(users,data)\n",
    "    else:\n",
    "        print('Hasta pronto')\n",
    "        \n",
    "\n",
    "main(users,data)"
   ]
  },
  {
   "cell_type": "code",
   "execution_count": null,
   "metadata": {},
   "outputs": [],
   "source": [
    "## "
   ]
  }
 ],
 "metadata": {
  "kernelspec": {
   "display_name": "Python 3",
   "language": "python",
   "name": "python3"
  },
  "language_info": {
   "codemirror_mode": {
    "name": "ipython",
    "version": 3
   },
   "file_extension": ".py",
   "mimetype": "text/x-python",
   "name": "python",
   "nbconvert_exporter": "python",
   "pygments_lexer": "ipython3",
   "version": "3.7.8"
  }
 },
 "nbformat": 4,
 "nbformat_minor": 4
}
