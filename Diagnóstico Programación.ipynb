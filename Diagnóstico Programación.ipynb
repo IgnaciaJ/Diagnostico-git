{
 "cells": [
  {
   "cell_type": "code",
   "execution_count": 3,
   "metadata": {
    "scrolled": true
   },
   "outputs": [],
   "source": [
    "import pandas as pd\n",
    "\n",
    "data_path = 'farmers-protest-tweets-2021-03-5.json'\n",
    "\n",
    "\n",
    "data = pd.read_json(data_path, lines=True)\n"
   ]
  },
  {
   "cell_type": "code",
   "execution_count": 4,
   "metadata": {},
   "outputs": [
    {
     "name": "stdout",
     "output_type": "stream",
     "text": [
      "url\n",
      "date\n",
      "content\n",
      "renderedContent\n",
      "id\n",
      "user\n",
      "outlinks\n",
      "tcooutlinks\n",
      "replyCount\n",
      "retweetCount\n",
      "likeCount\n",
      "quoteCount\n",
      "conversationId\n",
      "lang\n",
      "source\n",
      "sourceUrl\n",
      "sourceLabel\n",
      "media\n",
      "retweetedTweet\n",
      "quotedTweet\n",
      "mentionedUsers\n"
     ]
    }
   ],
   "source": [
    "#columnas de la bdd\n",
    "for col in data.columns:\n",
    "    print(col)"
   ]
  },
  {
   "cell_type": "code",
   "execution_count": 2,
   "metadata": {},
   "outputs": [],
   "source": [
    "def top_10_tweets(data):\n",
    "    top_10 = data.sort_values(by='retweetCount', ascending=False)\n",
    "    top_10 = top_10.head(n=10)\n",
    "    return top_10"
   ]
  },
  {
   "cell_type": "code",
   "execution_count": 19,
   "metadata": {},
   "outputs": [],
   "source": [
    "def top_10_users(data):\n",
    "    top_10 = data.groupby(data['user']).describe().reset_index()\n",
    "    top_10 = top_10.sort_values(by=('user','count'), ascending=False)\n",
    "    top_10 = top_10.head(n=10)\n",
    "    return top_10"
   ]
  },
  {
   "cell_type": "code",
   "execution_count": 17,
   "metadata": {},
   "outputs": [],
   "source": [
    "def top_10_tweet_days(data):\n",
    "    top_10 = data.groupby(data['date'].dt.date).describe().reset_index()\n",
    "    top_10 = top_10.sort_values(by=('id','count'), ascending=False)\n",
    "    top_10 = top_10.head(n=10)\n",
    "    return top_10 "
   ]
  },
  {
   "cell_type": "code",
   "execution_count": 40,
   "metadata": {},
   "outputs": [],
   "source": [
    "import numpy as np\n",
    "import re\n",
    "def top_10_hashtags(data):\n",
    "    top_10 = data['content'].str.findall(r'#.*?(?=\\s|$)', flags=re.IGNORECASE).to_frame('hashtags')\n",
    "    df = pd.Series(np.hstack(top_10['hashtags'])).value_counts().to_frame('count')\n",
    "    df = df.rename_axis('Hashtag').reset_index()\n",
    "    return df.head(n=10)"
   ]
  },
  {
   "cell_type": "code",
   "execution_count": 41,
   "metadata": {},
   "outputs": [
    {
     "name": "stdout",
     "output_type": "stream",
     "text": [
      "Elige una de las opciones para realizar una consulta\n",
      "[1] Top 10 tweets con más retweets\n",
      "[2] Top 10 usuarios con más tweets emitidos\n",
      "[3] Top 10 días donde más tweets se realizaron\n",
      "[4] Top 10 hashtags más utilizados\n",
      "4\n",
      "                     Hashtag   count\n",
      "0            #FarmersProtest  397701\n",
      "1         #IStandWithFarmers   15725\n",
      "2            #farmersprotest   14704\n",
      "3  #IndianFarmersHumanRights   11987\n",
      "4           #FarmersAreIndia   11012\n",
      "5          #StandWithFarmers   10515\n",
      "6                   #Rihanna    8833\n",
      "7           #FarmersProtests    8695\n",
      "8                   #Farmers    6274\n",
      "9          #shameonbollywood    6252\n",
      "¿Deseas realizar una nueva operación?\n",
      "[1]Si\n",
      "[2]No\n",
      "2\n",
      "Hasta pronto\n"
     ]
    }
   ],
   "source": [
    "def main():\n",
    "    print('Elige una de las opciones para realizar una consulta')\n",
    "    print('[1] Top 10 tweets con más retweets')\n",
    "    print('[2] Top 10 usuarios con más tweets emitidos')\n",
    "    print('[3] Top 10 días donde más tweets se realizaron')\n",
    "    print('[4] Top 10 hashtags más utilizados')\n",
    "    option = input()\n",
    "    while not option in ['1','2','3','4']:\n",
    "        option = input('seleccione una opción válida porfavor: ')\n",
    "    if option == '1':\n",
    "        top = top_10_tweets(data)\n",
    "        print(top[['id', 'content', 'retweetCount']])\n",
    "        \n",
    "    elif option == '2':\n",
    "        top = top_10_users(data)\n",
    "        print(top)\n",
    "   \n",
    "    elif option == '3':\n",
    "        top_10 = top_10_tweet_days(data)\n",
    "        print(top_10['date'].head(n=10))\n",
    "    else:\n",
    "        top = top_10_hashtags(data)\n",
    "        print(top)\n",
    "    print('¿Deseas realizar una nueva operación?\\n[1]Si\\n[2]No')\n",
    "    new_option = input()\n",
    "    if not new_option in ['1','2']:\n",
    "        new_option = input('seleccione una opción válida porfavor: ')\n",
    "    if new_option == '1':\n",
    "        main()\n",
    "    else:\n",
    "        print('Hasta pronto')\n",
    "        \n",
    "\n",
    "main()"
   ]
  },
  {
   "cell_type": "code",
   "execution_count": null,
   "metadata": {},
   "outputs": [],
   "source": [
    "## "
   ]
  }
 ],
 "metadata": {
  "kernelspec": {
   "display_name": "Python 3",
   "language": "python",
   "name": "python3"
  },
  "language_info": {
   "codemirror_mode": {
    "name": "ipython",
    "version": 3
   },
   "file_extension": ".py",
   "mimetype": "text/x-python",
   "name": "python",
   "nbconvert_exporter": "python",
   "pygments_lexer": "ipython3",
   "version": "3.7.8"
  }
 },
 "nbformat": 4,
 "nbformat_minor": 4
}
