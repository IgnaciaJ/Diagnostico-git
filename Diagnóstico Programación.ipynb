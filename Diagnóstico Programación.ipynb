{
 "cells": [
  {
   "cell_type": "code",
   "execution_count": 1,
   "metadata": {
    "scrolled": true
   },
   "outputs": [],
   "source": [
    "import pandas as pd\n",
    "\n",
    "data_path = 'farmers-protest-tweets-2021-03-5.json'\n",
    "\n",
    "\n",
    "data = pd.read_json(data_path, lines=True)\n"
   ]
  },
  {
   "cell_type": "code",
   "execution_count": 2,
   "metadata": {},
   "outputs": [
    {
     "name": "stdout",
     "output_type": "stream",
     "text": [
      "url\n",
      "date\n",
      "content\n",
      "renderedContent\n",
      "id\n",
      "user\n",
      "outlinks\n",
      "tcooutlinks\n",
      "replyCount\n",
      "retweetCount\n",
      "likeCount\n",
      "quoteCount\n",
      "conversationId\n",
      "lang\n",
      "source\n",
      "sourceUrl\n",
      "sourceLabel\n",
      "media\n",
      "retweetedTweet\n",
      "quotedTweet\n",
      "mentionedUsers\n"
     ]
    }
   ],
   "source": [
    "#columnas\n",
    "for col in data.columns:\n",
    "    print(col)"
   ]
  },
  {
   "cell_type": "code",
   "execution_count": 5,
   "metadata": {},
   "outputs": [],
   "source": [
    "def top_10_tweets(data):\n",
    "    top_10 = data.sort_values(by='retweetCount', ascending=False)\n",
    "    top_10 = top_10.head(n=10)\n",
    "    return top_10"
   ]
  },
  {
   "cell_type": "code",
   "execution_count": 3,
   "metadata": {},
   "outputs": [],
   "source": [
    "def top_10_users(data):\n",
    "    print('inin')"
   ]
  },
  {
   "cell_type": "code",
   "execution_count": 4,
   "metadata": {},
   "outputs": [],
   "source": [
    "def top_10_tweet_days(data):\n",
    "    print('ininini')"
   ]
  },
  {
   "cell_type": "code",
   "execution_count": 5,
   "metadata": {},
   "outputs": [],
   "source": [
    "def top_10_hashtags(data):\n",
    "    print('ininininin')"
   ]
  },
  {
   "cell_type": "code",
   "execution_count": 10,
   "metadata": {},
   "outputs": [
    {
     "name": "stdout",
     "output_type": "stream",
     "text": [
      "Elige una de las opciones para realizar una consulta\n",
      "[1] Top 10 tweets con más retweets\n",
      "[2] Top 10 usuarios con más tweets emitidos\n",
      "[3] Top 10 días donde más tweets se realizaron\n",
      "[4] Top 10 hashtags más utilizados\n",
      "1\n",
      "                         id  \\\n",
      "408128  1356625889602199552   \n",
      "395142  1356694884615340037   \n",
      "266196  1357282507616645122   \n",
      "366579  1356848397899112448   \n",
      "372793  1356827705161879553   \n",
      "314192  1357048037302960129   \n",
      "215034  1357755699162398720   \n",
      "398011  1356681136655769605   \n",
      "325261  1357009721090138112   \n",
      "163689  1359013362881994752   \n",
      "\n",
      "                                                  content  retweetCount  \n",
      "408128  why aren’t we talking about this?! #FarmersPro...        315547  \n",
      "395142  We stand in solidarity with the #FarmersProtes...        103957  \n",
      "266196  I still #StandWithFarmers and support their pe...         67694  \n",
      "366579  “Paid actors,” huh? Quite the casting director...         35921  \n",
      "372793  What in the human rights violations is going o...         26972  \n",
      "314192  Happy to share that I’ve donated $10,000 to pr...         23251  \n",
      "215034  There has been much social media coverage arou...         20132  \n",
      "398011  Farmers feed the world. Fight for them. Protec...         18744  \n",
      "325261  Should be talking about this! #FarmersProtest\\...         17368  \n",
      "163689  To all of my influencer/celeb friends- read up...         15677  \n",
      "¿Deseas realizar una nueva operación?\n",
      "[1]Si\n",
      "[2]No\n",
      "2\n",
      "Hasta pronto\n"
     ]
    }
   ],
   "source": [
    "\n",
    "def main():\n",
    "    print('Elige una de las opciones para realizar una consulta')\n",
    "    print('[1] Top 10 tweets con más retweets')\n",
    "    print('[2] Top 10 usuarios con más tweets emitidos')\n",
    "    print('[3] Top 10 días donde más tweets se realizaron')\n",
    "    print('[4] Top 10 hashtags más utilizados')\n",
    "    option = input()\n",
    "    while not option in ['1','2','3','4']:\n",
    "      option = input('seleccione una opción válida porfavor: ')\n",
    "    if option == '1':\n",
    "        top = top_10_tweets(data)\n",
    "        print(top[['id', 'content', 'retweetCount']])\n",
    "        \n",
    "    elif option == '2':\n",
    "        top_10_users()\n",
    "    elif option == '3':\n",
    "        top_10_tweet_days()\n",
    "    else:\n",
    "        top_10_hashtags()\n",
    "    print('¿Deseas realizar una nueva operación?\\n[1]Si\\n[2]No')\n",
    "    new_option = input()\n",
    "    if not new_option in ['1','2']:\n",
    "        new_option = input('seleccione una opción válida porfavor: ')\n",
    "    if new_option == '1':\n",
    "        main()\n",
    "    else:\n",
    "        print('Hasta pronto')\n",
    "        \n",
    "\n",
    "main()"
   ]
  },
  {
   "cell_type": "code",
   "execution_count": null,
   "metadata": {},
   "outputs": [],
   "source": [
    "import numpy as np # linear algebra\n",
    "import pandas as pd # data processing, CSV file I/O (e.g. pd.read_csv)\n",
    "\n",
    "# Input data files are available in the read-only \"../input/\" directory\n",
    "# For example, running this (by clicking run or pressing Shift+Enter) will list all files under the input directory\n",
    "\n",
    "import os\n",
    "import json\n",
    "\n",
    "for dirname, _, filenames in os.walk('/kaggle/input'):\n",
    "    for filename in filenames:\n",
    "        print(os.path.join(dirname, filename))\n",
    "        link = os.path.join(dirname, filename)\n",
    "data = pd.read_json(link, orient='records')\n",
    "print(data.head(n=2))\n",
    "\n"
   ]
  }
 ],
 "metadata": {
  "kernelspec": {
   "display_name": "Python 3",
   "language": "python",
   "name": "python3"
  },
  "language_info": {
   "codemirror_mode": {
    "name": "ipython",
    "version": 3
   },
   "file_extension": ".py",
   "mimetype": "text/x-python",
   "name": "python",
   "nbconvert_exporter": "python",
   "pygments_lexer": "ipython3",
   "version": "3.7.8"
  }
 },
 "nbformat": 4,
 "nbformat_minor": 4
}
