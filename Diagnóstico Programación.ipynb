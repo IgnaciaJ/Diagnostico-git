{
 "cells": [
  {
   "cell_type": "code",
   "execution_count": 1,
   "metadata": {
    "scrolled": true
   },
   "outputs": [],
   "source": [
    "import pandas as pd\n",
    "\n",
    "data_path = 'farmers-protest-tweets-2021-03-5.json'\n",
    "\n",
    "\n",
    "data = pd.read_json(data_path, lines=True)\n"
   ]
  },
  {
   "cell_type": "code",
   "execution_count": 46,
   "metadata": {},
   "outputs": [
    {
     "name": "stdout",
     "output_type": "stream",
     "text": [
      "url\n",
      "date\n",
      "content\n",
      "renderedContent\n",
      "id\n",
      "user\n",
      "outlinks\n",
      "tcooutlinks\n",
      "replyCount\n",
      "retweetCount\n",
      "likeCount\n",
      "quoteCount\n",
      "conversationId\n",
      "lang\n",
      "source\n",
      "sourceUrl\n",
      "sourceLabel\n",
      "media\n",
      "retweetedTweet\n",
      "quotedTweet\n",
      "mentionedUsers\n"
     ]
    }
   ],
   "source": [
    "#columnas\n",
    "for col in data.columns:\n",
    "    print(col)"
   ]
  },
  {
   "cell_type": "code",
   "execution_count": 5,
   "metadata": {},
   "outputs": [],
   "source": [
    "def top_10_tweets(data):\n",
    "    top_10 = data.sort_values(by='retweetCount', ascending=False)\n",
    "    top_10 = top_10.head(n=10)\n",
    "    return top_10"
   ]
  },
  {
   "cell_type": "code",
   "execution_count": 152,
   "metadata": {},
   "outputs": [],
   "source": [
    "def top_10_users(data):\n",
    "    user_dictionary = {}\n",
    "    users = data['user'].to_json()\n",
    "    users = pd.read_json(users, lines=True)\n",
    "    users = users.groupby('id').size(ascending=False)\n",
    "    \n",
    "  \n",
    "    return users"
   ]
  },
  {
   "cell_type": "code",
   "execution_count": 4,
   "metadata": {},
   "outputs": [],
   "source": [
    "def top_10_tweet_days(data):\n",
    "    print('ininini')"
   ]
  },
  {
   "cell_type": "code",
   "execution_count": 5,
   "metadata": {},
   "outputs": [],
   "source": [
    "def top_10_hashtags(data):\n",
    "    print('ininininin')"
   ]
  },
  {
   "cell_type": "code",
   "execution_count": null,
   "metadata": {},
   "outputs": [
    {
     "name": "stdout",
     "output_type": "stream",
     "text": [
      "Elige una de las opciones para realizar una consulta\n",
      "[1] Top 10 tweets con más retweets\n",
      "[2] Top 10 usuarios con más tweets emitidos\n",
      "[3] Top 10 días donde más tweets se realizaron\n",
      "[4] Top 10 hashtags más utilizados\n",
      "2\n"
     ]
    }
   ],
   "source": [
    "def main():\n",
    "    print('Elige una de las opciones para realizar una consulta')\n",
    "    print('[1] Top 10 tweets con más retweets')\n",
    "    print('[2] Top 10 usuarios con más tweets emitidos')\n",
    "    print('[3] Top 10 días donde más tweets se realizaron')\n",
    "    print('[4] Top 10 hashtags más utilizados')\n",
    "    option = input()\n",
    "    while not option in ['1','2','3','4']:\n",
    "        option = input('seleccione una opción válida porfavor: ')\n",
    "    if option == '1':\n",
    "        top = top_10_tweets(data)\n",
    "        print(top[['id', 'content', 'retweetCount']])\n",
    "        \n",
    "    elif option == '2':\n",
    "        top = top_10_users(data)\n",
    "        print(top.head(n=10))\n",
    "   \n",
    "    elif option == '3':\n",
    "        top_10_tweet_days()\n",
    "    else:\n",
    "        top_10_hashtags()\n",
    "    print('¿Deseas realizar una nueva operación?\\n[1]Si\\n[2]No')\n",
    "    new_option = input()\n",
    "    if not new_option in ['1','2']:\n",
    "        new_option = input('seleccione una opción válida porfavor: ')\n",
    "    if new_option == '1':\n",
    "        main()\n",
    "    else:\n",
    "        print('Hasta pronto')\n",
    "        \n",
    "\n",
    "main()"
   ]
  },
  {
   "cell_type": "code",
   "execution_count": null,
   "metadata": {},
   "outputs": [],
   "source": [
    "## "
   ]
  }
 ],
 "metadata": {
  "kernelspec": {
   "display_name": "Python 3",
   "language": "python",
   "name": "python3"
  },
  "language_info": {
   "codemirror_mode": {
    "name": "ipython",
    "version": 3
   },
   "file_extension": ".py",
   "mimetype": "text/x-python",
   "name": "python",
   "nbconvert_exporter": "python",
   "pygments_lexer": "ipython3",
   "version": "3.7.8"
  }
 },
 "nbformat": 4,
 "nbformat_minor": 4
}
