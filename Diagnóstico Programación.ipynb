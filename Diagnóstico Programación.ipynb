{
 "cells": [
  {
   "cell_type": "code",
   "execution_count": 2,
   "metadata": {},
   "outputs": [],
   "source": [
    "def top_10_tweets():\n",
    "    print('in')"
   ]
  },
  {
   "cell_type": "code",
   "execution_count": 3,
   "metadata": {},
   "outputs": [],
   "source": [
    "def top_10_users():\n",
    "    print('inin')"
   ]
  },
  {
   "cell_type": "code",
   "execution_count": 4,
   "metadata": {},
   "outputs": [],
   "source": [
    "def top_10_tweet_days():\n",
    "    print('ininini')"
   ]
  },
  {
   "cell_type": "code",
   "execution_count": 5,
   "metadata": {},
   "outputs": [],
   "source": [
    "def top_10_hashtags():\n",
    "    print('ininininin')"
   ]
  },
  {
   "cell_type": "code",
   "execution_count": 8,
   "metadata": {},
   "outputs": [
    {
     "name": "stdout",
     "output_type": "stream",
     "text": [
      "Elige una de las opciones para realizar una consulta\n",
      "[1] Top 10 tweets con más retweets\n",
      "[2] Top 10 usuarios con más tweets emitidos\n",
      "[3] Top 10 días donde más tweets se realizaron\n",
      "[4] Top 10 hashtags más utilizados\n",
      "e\n",
      "seleccione una opción válida porfavor: 2\n",
      "inin\n",
      "¿Deseas realizar una nueva operación?\n",
      "[1]Si\n",
      "[2]No\n",
      "1\n",
      "Elige una de las opciones para realizar una consulta\n",
      "[1] Top 10 tweets con más retweets\n",
      "[2] Top 10 usuarios con más tweets emitidos\n",
      "[3] Top 10 días donde más tweets se realizaron\n",
      "[4] Top 10 hashtags más utilizados\n",
      "2\n",
      "inin\n",
      "¿Deseas realizar una nueva operación?\n",
      "[1]Si\n",
      "[2]No\n",
      "2\n",
      "Hasta pronto\n"
     ]
    }
   ],
   "source": [
    "def main():\n",
    "    print('Elige una de las opciones para realizar una consulta')\n",
    "    print('[1] Top 10 tweets con más retweets')\n",
    "    print('[2] Top 10 usuarios con más tweets emitidos')\n",
    "    print('[3] Top 10 días donde más tweets se realizaron')\n",
    "    print('[4] Top 10 hashtags más utilizados')\n",
    "    option = input()\n",
    "    while not option in ['1','2','3','4']:\n",
    "      option = input('seleccione una opción válida porfavor: ')\n",
    "    if option == '1':\n",
    "        top_10_tweets()\n",
    "    elif option == '2':\n",
    "        top_10_users()\n",
    "    elif option == '3':\n",
    "        top_10_tweet_days()\n",
    "    else:\n",
    "        top_10_hashtags()\n",
    "    print('¿Deseas realizar una nueva operación?\\n[1]Si\\n[2]No')\n",
    "    new_option = input()\n",
    "    if not new_option in ['1','2']:\n",
    "        new_option = input('seleccione una opción válida porfavor: ')\n",
    "    if new_option == '1':\n",
    "        main()\n",
    "    else:\n",
    "        print('Hasta pronto')\n",
    "        \n",
    "\n",
    "main()"
   ]
  },
  {
   "cell_type": "markdown",
   "metadata": {},
   "source": [
    "## "
   ]
  }
 ],
 "metadata": {
  "kernelspec": {
   "display_name": "Python 3",
   "language": "python",
   "name": "python3"
  },
  "language_info": {
   "codemirror_mode": {
    "name": "ipython",
    "version": 3
   },
   "file_extension": ".py",
   "mimetype": "text/x-python",
   "name": "python",
   "nbconvert_exporter": "python",
   "pygments_lexer": "ipython3",
   "version": "3.7.8"
  }
 },
 "nbformat": 4,
 "nbformat_minor": 4
}
